{
 "cells": [
  {
   "cell_type": "markdown",
   "metadata": {},
   "source": [
    "# Single column matrix input file. $r_e$ variation"
   ]
  },
  {
   "cell_type": "markdown",
   "metadata": {},
   "source": [
    "Preparing matrix of 1D columns .nc file and formatting for input ecRad file.\n",
    "\n",
    "Version 5: 2023-07-07\n",
    "\n",
    "Fixed parameters:\n",
    "1. Cosine of solar zenith angle $\\mu = .6$ (effective solar zenith angle of $53^{\\circ}$, Wallace&Hobbs, 2006)\n",
    "2. SW albedo $\\alpha = .05$ (Hartmann & Berry, 2017).\n",
    "3. LW emissivity $\\epsilon = .97$ (REFERENCE?)\n",
    "4. Skin temperature as surface temperature $T_{skin}$ of 290 to 300 K (Jin & Dickinson, 2010, https://iopscience.iop.org/article/10.1088/1748-9326/5/4/044004/pdf)\n",
    "5. No gases and aerosols.\n",
    "6. No liquid water.\n",
    "7. Tropical sounding (Lapse Rate of $6.7\\;K/km$ (see on next cells below)).\n",
    "\n",
    "Variable parameters:\n",
    "1. Ice Water Path (IWP) = 30 $g/m^2$ (Sokol & Hartmann 2020):\n",
    "\n",
    "    $$IWP \\;=\\; \\int{IWC\\;dz} \\;=\\; \\int_{h_1}^{h_2}{q_i\\;\\rho(z)\\;dz}\\;\\;\\; , \\;\\;\\;(h_2 - h_1 = 1.5 \\;km)$$\n",
    "\n",
    "    where IWC is the Ice Water Content $(g/m^3)$, which is the Ice Water Mixing Ratio $q_{i}\\;(g/km)$ times the density $\\rho(z)$:\n",
    "\n",
    "    $$\\Rightarrow\\;q_i = IWP{\\int_{h_1}^{h_2}{\\rho(z)\\;dz}}$$\n",
    "2. Effective Radius $r_e$ = 1 to 100 $\\mu m$ every 5 (1, 5, 10, 15...) (REFERENCE?)."
   ]
  },
  {
   "cell_type": "markdown",
   "metadata": {},
   "source": [
    "## Loading Libraries"
   ]
  },
  {
   "cell_type": "markdown",
   "metadata": {},
   "source": [
    "Version list:\n",
    "\n",
    "1. xarray : 2022.11.0\n",
    "2. numpy : 1.23.4\n",
    "3. pysolar : 0.10\n",
    "4. matplotlib : 3.6.2"
   ]
  },
  {
   "cell_type": "code",
   "execution_count": 2,
   "metadata": {},
   "outputs": [],
   "source": [
    "import pandas as pd\n",
    "import xarray as xr\n",
    "import numpy as np\n",
    "from scipy import interpolate\n",
    "import matplotlib.pyplot as plt\n",
    "\n",
    "%matplotlib notebook"
   ]
  },
  {
   "cell_type": "markdown",
   "metadata": {},
   "source": [
    "## Loading Data"
   ]
  },
  {
   "cell_type": "code",
   "execution_count": 2,
   "metadata": {},
   "outputs": [
    {
     "name": "stderr",
     "output_type": "stream",
     "text": [
      "/tmp/ipykernel_48674/1624852093.py:1: ParserWarning: Falling back to the 'python' engine because the 'c' engine does not support regex separators (separators > 1 char and different from '\\s+' are interpreted as regex); you can avoid this warning by specifying engine='python'.\n",
      "  tropical_profile = pd.read_csv('/home/u5/edgardo/p01_crh_sensitivity/tropical_profile_ellingson_250m.txt',\n"
     ]
    }
   ],
   "source": [
    "tropical_profile = pd.read_csv('/home/u5/edgardo/p01_crh_sensitivity/tropical_profile_ellingson_250m.txt',\n",
    "                               sep='\\s+ ')"
   ]
  },
  {
   "cell_type": "code",
   "execution_count": 3,
   "metadata": {},
   "outputs": [
    {
     "name": "stdout",
     "output_type": "stream",
     "text": [
      "195.6\n"
     ]
    }
   ],
   "source": [
    "height          = tropical_profile['height (km)'].iloc[::-1]\n",
    "temp            = tropical_profile['temperature (K)'].iloc[::-1]\n",
    "tropopause_i    = temp.argmin()\n",
    "tropopause      = temp.iloc[tropopause_i]\n",
    "melting_layer_i = (temp - 273.15).abs().argmin()\n",
    "melting_layer   = temp.iloc[melting_layer_i]\n",
    "\n",
    "print(tropopause)"
   ]
  },
  {
   "cell_type": "markdown",
   "metadata": {},
   "source": [
    "## Preparing input"
   ]
  },
  {
   "cell_type": "markdown",
   "metadata": {},
   "source": [
    "List of parameters:\n",
    "\n",
    "- Skin Temperature (for each temperature)\n",
    "- cos_solar_zenith_angle (for each temperature)\n",
    "- pressure_hl (half level column)\n",
    "- temperature_hl (half level column)\n",
    "- q or h2o_mmr (Specific Humidity) (level column)\n",
    "- o3_mmr (Ozone Mass Mixing Ratio) (level column)\n",
    "- q_liquid (Liquid cloud mass mixing ratio (kg kg-1)) (level column)\n",
    "- q_ice (Ice cloud mass mixing ratio (kg kg-1)) (level column)\n",
    "- re_liquid (m) (level column)\n",
    "- re_ice (m) (level column)\n",
    "- cloud_fraction (level column)\n",
    "- sw_albedo (1 value)\n",
    "- lw_emissivity (1 value)\n",
    "- aerosol_mmr (matrix)"
   ]
  },
  {
   "cell_type": "markdown",
   "metadata": {},
   "source": [
    "### 1. Density Profile $(kg/m^3)$"
   ]
  },
  {
   "cell_type": "code",
   "execution_count": 4,
   "metadata": {},
   "outputs": [],
   "source": [
    "R       = 287 # J/kgK\n",
    "density = (tropical_profile['pressure (hPa)']*100)/(tropical_profile['temperature (K)']*R)\n",
    "density = density.iloc[::-1]"
   ]
  },
  {
   "cell_type": "markdown",
   "metadata": {},
   "source": [
    "### 2. Half Level Pressures (Pa)"
   ]
  },
  {
   "cell_type": "markdown",
   "metadata": {},
   "source": [
    "\"The half_level dimension corresponds to the mid-points of the levels, plus the top-of-atmosphere and surface, and so must be one more than level\""
   ]
  },
  {
   "cell_type": "code",
   "execution_count": 5,
   "metadata": {},
   "outputs": [],
   "source": [
    "pressure_hli = [tropical_profile['pressure (hPa)'].iloc[-1]*100] # Pa\n",
    "for i in range(len(tropical_profile['pressure (hPa)'])-1):\n",
    "    pif = tropical_profile['pressure (hPa)'].iloc[-1-(i+1)]*100\n",
    "    pii = tropical_profile['pressure (hPa)'].iloc[-1-i]*100\n",
    "    pressure_hli.append((pif+pii)/2)\n",
    "pressure_hli.append(tropical_profile['pressure (hPa)'].iloc[0]*100) # Pa"
   ]
  },
  {
   "cell_type": "markdown",
   "metadata": {},
   "source": [
    "### 3. Half Level Temperatures (K)"
   ]
  },
  {
   "cell_type": "markdown",
   "metadata": {},
   "source": [
    "Interpolation obtained from half level pressures:"
   ]
  },
  {
   "cell_type": "code",
   "execution_count": 6,
   "metadata": {},
   "outputs": [],
   "source": [
    "temp_int        = interpolate.interp1d(tropical_profile['pressure (hPa)'].iloc[::-1]*100,\n",
    "                                       tropical_profile['temperature (K)'].iloc[::-1])\n",
    "temperature_hli = temp_int(pressure_hli)"
   ]
  },
  {
   "cell_type": "markdown",
   "metadata": {},
   "source": [
    "### 4. Matrix"
   ]
  },
  {
   "cell_type": "markdown",
   "metadata": {},
   "source": [
    "Level of perturbation (236 K, 218 K, 201 K):"
   ]
  },
  {
   "cell_type": "code",
   "execution_count": 19,
   "metadata": {},
   "outputs": [],
   "source": [
    "perturbation_temp   = 236\n",
    "perturbation_i      = (temp.iloc[tropopause_i:] - perturbation_temp).abs().argmin()\n",
    "perturbation_height = height.iloc[tropopause_i+perturbation_i]\n",
    "lower_limit_hloc = height[height==(perturbation_height - .75)].index[0]\n",
    "upper_limit_hloc = height[height==(perturbation_height + .75)].index[0]"
   ]
  },
  {
   "cell_type": "markdown",
   "metadata": {},
   "source": [
    "$r_e$ from 5 to 100 every 5 um:"
   ]
  },
  {
   "cell_type": "code",
   "execution_count": 20,
   "metadata": {},
   "outputs": [],
   "source": [
    "re   = np.arange(5,105,5)\n",
    "re   = np.insert(re, 0, 1)\n",
    "rows = len(re)"
   ]
  },
  {
   "cell_type": "code",
   "execution_count": 21,
   "metadata": {},
   "outputs": [],
   "source": [
    "# Fixed parameters:\n",
    "cos_solar_zenith_angle = np.full(rows, .6)\n",
    "lw_emissivity          = np.full(rows, .97)\n",
    "sw_albedo              = np.full(rows, .05)\n",
    "skin_temperature       = np.full(rows, temp.iloc[-1]) # (K)\n",
    "\n",
    "# Specific humidity matrix (perturbations X level):\n",
    "qi = tropical_profile['specific hum\\t(kg/kg)'].iloc[::-1]\n",
    "q  = np.full((rows,len(pressure_hli)-1),qi)\n",
    "\n",
    "# Ozone mass mixing ratio matrix (perturbations X level):\n",
    "o3_mmr = np.zeros((rows,len(pressure_hli)-1))\n",
    "\n",
    "# Liquid cloud mass mixing ratio (perturbations X level):\n",
    "q_liquid = np.zeros((rows,len(pressure_hli)-1))\n",
    "\n",
    "# Ice cloud mass mixing ratio (perturbations X level):\n",
    "q_ice = np.zeros((rows,len(pressure_hli)-1))\n",
    "\n",
    "cloud_fraction = np.zeros((rows,len(pressure_hli)-1))\n",
    "\n",
    "# CREATING THE PROFILE\n",
    "for j in range(len(height)):\n",
    "    hj = height.iloc[j]\n",
    "    if hj >= (perturbation_height - .75) and hj <= (perturbation_height + .75):\n",
    "            integral = np.trapz(density.loc[upper_limit_hloc:lower_limit_hloc],\n",
    "                                height.loc[upper_limit_hloc:lower_limit_hloc]*1000,0.1)\n",
    "            q_ice[:,j] = (30/abs(integral))*1e-3 # qi = IWP / int(rho dz) kg/kg\n",
    "            cloud_fraction[:,j] = 1\n",
    "\n",
    "# Liquid cloud effective radius (m):\n",
    "re_liquid = np.full((rows,len(pressure_hli)-1),1e-5)\n",
    "\n",
    "# Ice cloud effective radius (m):\n",
    "re_ice = np.zeros((rows,len(pressure_hli)-1))\n",
    "for i in range(rows):\n",
    "    re_ice[i,:] = re[i]*1e-6\n",
    "\n",
    "# Half Level Pressures (perturbations X half_level):\n",
    "pressure_hl = np.full((rows,len(pressure_hli)),pressure_hli)\n",
    "\n",
    "# Half Level Temperatures (perturbations X half_level):\n",
    "temperature_hl = np.full((rows,len(pressure_hli)),temperature_hli)"
   ]
  },
  {
   "cell_type": "markdown",
   "metadata": {},
   "source": [
    "### Final Table"
   ]
  },
  {
   "cell_type": "code",
   "execution_count": 1,
   "metadata": {},
   "outputs": [
    {
     "ename": "NameError",
     "evalue": "name 'xr' is not defined",
     "output_type": "error",
     "traceback": [
      "\u001b[0;31m---------------------------------------------------------------------------\u001b[0m",
      "\u001b[0;31mNameError\u001b[0m                                 Traceback (most recent call last)",
      "Cell \u001b[0;32mIn[1], line 1\u001b[0m\n\u001b[0;32m----> 1\u001b[0m ds \u001b[38;5;241m=\u001b[39m \u001b[43mxr\u001b[49m\u001b[38;5;241m.\u001b[39mDataset(\n\u001b[1;32m      2\u001b[0m     data_vars \u001b[38;5;241m=\u001b[39m \u001b[38;5;28mdict\u001b[39m(\n\u001b[1;32m      3\u001b[0m         \u001b[38;5;66;03m#time = (time),\u001b[39;00m\n\u001b[1;32m      4\u001b[0m         temp \u001b[38;5;241m=\u001b[39m ([\u001b[38;5;124m'\u001b[39m\u001b[38;5;124mcolumn\u001b[39m\u001b[38;5;124m'\u001b[39m], re),\n\u001b[1;32m      5\u001b[0m         \u001b[38;5;66;03m#longitude = (['column'], longitude),\u001b[39;00m\n\u001b[1;32m      6\u001b[0m         lw_emissivity \u001b[38;5;241m=\u001b[39m ([\u001b[38;5;124m'\u001b[39m\u001b[38;5;124mcolumn\u001b[39m\u001b[38;5;124m'\u001b[39m], lw_emissivity),\n\u001b[1;32m      7\u001b[0m         sw_albedo \u001b[38;5;241m=\u001b[39m ([\u001b[38;5;124m'\u001b[39m\u001b[38;5;124mcolumn\u001b[39m\u001b[38;5;124m'\u001b[39m], sw_albedo),\n\u001b[1;32m      8\u001b[0m         skin_temperature \u001b[38;5;241m=\u001b[39m ([\u001b[38;5;124m'\u001b[39m\u001b[38;5;124mcolumn\u001b[39m\u001b[38;5;124m'\u001b[39m], skin_temperature),\n\u001b[1;32m      9\u001b[0m         cos_solar_zenith_angle \u001b[38;5;241m=\u001b[39m ([\u001b[38;5;124m'\u001b[39m\u001b[38;5;124mcolumn\u001b[39m\u001b[38;5;124m'\u001b[39m], cos_solar_zenith_angle),\n\u001b[1;32m     10\u001b[0m         pressure_hl \u001b[38;5;241m=\u001b[39m ([\u001b[38;5;124m'\u001b[39m\u001b[38;5;124mcolumn\u001b[39m\u001b[38;5;124m'\u001b[39m,\u001b[38;5;124m'\u001b[39m\u001b[38;5;124mhalf_level\u001b[39m\u001b[38;5;124m'\u001b[39m], pressure_hl),\n\u001b[1;32m     11\u001b[0m         temperature_hl \u001b[38;5;241m=\u001b[39m ([\u001b[38;5;124m'\u001b[39m\u001b[38;5;124mcolumn\u001b[39m\u001b[38;5;124m'\u001b[39m,\u001b[38;5;124m'\u001b[39m\u001b[38;5;124mhalf_level\u001b[39m\u001b[38;5;124m'\u001b[39m], temperature_hl),\n\u001b[1;32m     12\u001b[0m         q \u001b[38;5;241m=\u001b[39m ([\u001b[38;5;124m'\u001b[39m\u001b[38;5;124mcolumn\u001b[39m\u001b[38;5;124m'\u001b[39m,\u001b[38;5;124m'\u001b[39m\u001b[38;5;124mlevel\u001b[39m\u001b[38;5;124m'\u001b[39m], q),\n\u001b[1;32m     13\u001b[0m         o3_mmr \u001b[38;5;241m=\u001b[39m ([\u001b[38;5;124m'\u001b[39m\u001b[38;5;124mcolumn\u001b[39m\u001b[38;5;124m'\u001b[39m,\u001b[38;5;124m'\u001b[39m\u001b[38;5;124mlevel\u001b[39m\u001b[38;5;124m'\u001b[39m], o3_mmr),\n\u001b[1;32m     14\u001b[0m         q_liquid \u001b[38;5;241m=\u001b[39m ([\u001b[38;5;124m'\u001b[39m\u001b[38;5;124mcolumn\u001b[39m\u001b[38;5;124m'\u001b[39m,\u001b[38;5;124m'\u001b[39m\u001b[38;5;124mlevel\u001b[39m\u001b[38;5;124m'\u001b[39m], q_liquid),\n\u001b[1;32m     15\u001b[0m         q_ice \u001b[38;5;241m=\u001b[39m ([\u001b[38;5;124m'\u001b[39m\u001b[38;5;124mcolumn\u001b[39m\u001b[38;5;124m'\u001b[39m,\u001b[38;5;124m'\u001b[39m\u001b[38;5;124mlevel\u001b[39m\u001b[38;5;124m'\u001b[39m], q_ice),\n\u001b[1;32m     16\u001b[0m         re_liquid \u001b[38;5;241m=\u001b[39m ([\u001b[38;5;124m'\u001b[39m\u001b[38;5;124mcolumn\u001b[39m\u001b[38;5;124m'\u001b[39m,\u001b[38;5;124m'\u001b[39m\u001b[38;5;124mlevel\u001b[39m\u001b[38;5;124m'\u001b[39m], re_liquid),\n\u001b[1;32m     17\u001b[0m         re_ice \u001b[38;5;241m=\u001b[39m ([\u001b[38;5;124m'\u001b[39m\u001b[38;5;124mcolumn\u001b[39m\u001b[38;5;124m'\u001b[39m,\u001b[38;5;124m'\u001b[39m\u001b[38;5;124mlevel\u001b[39m\u001b[38;5;124m'\u001b[39m], re_ice),\n\u001b[1;32m     18\u001b[0m         cloud_fraction \u001b[38;5;241m=\u001b[39m ([\u001b[38;5;124m'\u001b[39m\u001b[38;5;124mcolumn\u001b[39m\u001b[38;5;124m'\u001b[39m,\u001b[38;5;124m'\u001b[39m\u001b[38;5;124mlevel\u001b[39m\u001b[38;5;124m'\u001b[39m], cloud_fraction),\n\u001b[1;32m     19\u001b[0m     ),\n\u001b[1;32m     20\u001b[0m     attrs \u001b[38;5;241m=\u001b[39m \u001b[38;5;28mdict\u001b[39m(\n\u001b[1;32m     21\u001b[0m         title\u001b[38;5;241m=\u001b[39m\u001b[38;5;124m\"\u001b[39m\u001b[38;5;124m1D columns matrix input for ecRad\u001b[39m\u001b[38;5;124m\"\u001b[39m),\n\u001b[1;32m     22\u001b[0m )\n",
      "\u001b[0;31mNameError\u001b[0m: name 'xr' is not defined"
     ]
    }
   ],
   "source": [
    "ds = xr.Dataset(\n",
    "    data_vars = dict(\n",
    "        #time = (time),\n",
    "        temp = (['column'], re),\n",
    "        #longitude = (['column'], longitude),\n",
    "        lw_emissivity = (['column'], lw_emissivity),\n",
    "        sw_albedo = (['column'], sw_albedo),\n",
    "        skin_temperature = (['column'], skin_temperature),\n",
    "        cos_solar_zenith_angle = (['column'], cos_solar_zenith_angle),\n",
    "        pressure_hl = (['column','half_level'], pressure_hl),\n",
    "        temperature_hl = (['column','half_level'], temperature_hl),\n",
    "        q = (['column','level'], q),\n",
    "        o3_mmr = (['column','level'], o3_mmr),\n",
    "        q_liquid = (['column','level'], q_liquid),\n",
    "        q_ice = (['column','level'], q_ice),\n",
    "        re_liquid = (['column','level'], re_liquid),\n",
    "        re_ice = (['column','level'], re_ice),\n",
    "        cloud_fraction = (['column','level'], cloud_fraction),\n",
    "    ),\n",
    "    attrs = dict(\n",
    "        title=\"1D columns matrix input for ecRad\"),\n",
    ")"
   ]
  },
  {
   "cell_type": "code",
   "execution_count": 23,
   "metadata": {},
   "outputs": [],
   "source": [
    "out_dir = ('/groups/sylvia/ecrad_tests/ecrad_test_1/')\n",
    "file    = '1D_matrix_re_'+str(perturbation_temp)\n",
    "ds.to_netcdf(path = out_dir+'input_'+file+'_v5.nc')"
   ]
  },
  {
   "cell_type": "code",
   "execution_count": null,
   "metadata": {},
   "outputs": [],
   "source": []
  }
 ],
 "metadata": {
  "kernelspec": {
   "display_name": "lmcme1_py38",
   "language": "python",
   "name": "lmcme1_py38"
  },
  "language_info": {
   "codemirror_mode": {
    "name": "ipython",
    "version": 3
   },
   "file_extension": ".py",
   "mimetype": "text/x-python",
   "name": "python",
   "nbconvert_exporter": "python",
   "pygments_lexer": "ipython3",
   "version": "3.8.15"
  }
 },
 "nbformat": 4,
 "nbformat_minor": 4
}
