{
 "cells": [
  {
   "cell_type": "markdown",
   "metadata": {},
   "source": [
    "# \"Single-column\" set: Reading ecRad output and computing CRH."
   ]
  },
  {
   "cell_type": "markdown",
   "metadata": {},
   "source": [
    "#### Version 7b: 2025-01-22"
   ]
  },
  {
   "cell_type": "markdown",
   "metadata": {},
   "source": [
    "### Loading Libraries"
   ]
  },
  {
   "cell_type": "code",
   "execution_count": 1,
   "metadata": {},
   "outputs": [],
   "source": [
    "# Project utilities\n",
    "from project_utilites import crh, crh3levels, cre\n",
    "# numpy version used: 1.23.4 (python 3.8.15)\n",
    "# xarray version used: 2022.11.0 (python 3.8.15)\n",
    "# pandas version used: 1.5.2 (python 3.8.15)\n",
    "# scipy version used: 1.10.0 (python 3.8.15)"
   ]
  },
  {
   "cell_type": "markdown",
   "metadata": {},
   "source": [
    "## Cloud-radiative heating (CRH) rate matrix calculation:"
   ]
  },
  {
   "cell_type": "markdown",
   "metadata": {},
   "source": [
    "Cloud-radiative Heating (CRH) rate in K d$^{-1}$ for each spectral component i (SW and LW):\n",
    "\n",
    "$$\\text{CRH}_{i} \\;\\equiv\\; - \\frac{g_0}{C_P}\\frac{d(\\text{CRE}_{i})}{dP}\\;\\;\\left[\\frac{K}{s}\\right]\\times\\;86400\\;\\left[\\frac{s}{d}\\right]$$\n",
    "\n",
    "where g$_0$ is the gravity acceleration (9.8 m s$^{-2}$), C$_P$ is the specific heat capacity of dry air (1080 J kg$^{-1}$ K$^{-1}$) and CRE$_{i}$ is the Cloud Radiative Effect for each spectral component i (SW and LW), computed as:\n",
    "\n",
    "$$CRE_{i} \\;=\\; F_{All_{i}}^{NET} - F_{Clear_{i}}^{NET}$$\n",
    "\n",
    "where F$^{\\text{NET}}$ is the NET irradiance or flux (W m$^{-2}$), computed as:\n",
    "\n",
    "$$F_{i}^{NET} \\;=\\; F_{i}^{Downward} - F_{i}^{Upward}$$\n",
    "\n",
    "Take into account some authors use outgoing fluxes as positive (Be carefull with this).\n",
    "\n",
    "This is computed by 'crh' in project_utilities.py"
   ]
  },
  {
   "cell_type": "markdown",
   "metadata": {},
   "source": [
    "#### For Test 1: Cloud temperature (Altitude test)"
   ]
  },
  {
   "cell_type": "markdown",
   "metadata": {},
   "source": [
    "CRH calculation:"
   ]
  },
  {
   "cell_type": "code",
   "execution_count": 2,
   "metadata": {},
   "outputs": [],
   "source": [
    "datain_path  = '2-ecrad_outputs/'\n",
    "dataout_path = '3-crh_matrices/'\n",
    "test         = 'test1'\n",
    "version      = 'v7a'\n",
    "crh(datain_path, dataout_path, test, version)"
   ]
  },
  {
   "cell_type": "markdown",
   "metadata": {},
   "source": [
    "CRE calculation and export:"
   ]
  },
  {
   "cell_type": "code",
   "execution_count": 2,
   "metadata": {},
   "outputs": [],
   "source": [
    "datain_path  = '2-ecrad_outputs/'\n",
    "dataout_path = '4-cre_data/'\n",
    "test         = 'test1'\n",
    "version      = 'v7a'\n",
    "cre(datain_path, dataout_path, test, version)"
   ]
  },
  {
   "cell_type": "markdown",
   "metadata": {},
   "source": [
    "#### For Test 2a: Geometrical Depth (Fixed Top)"
   ]
  },
  {
   "cell_type": "code",
   "execution_count": 2,
   "metadata": {},
   "outputs": [],
   "source": [
    "datain_path  = '2-ecrad_outputs/'\n",
    "dataout_path = '3-crh_matrices/'\n",
    "test         = 'test2a'\n",
    "version      = 'v7a'\n",
    "crh(datain_path, dataout_path, test, version)"
   ]
  },
  {
   "cell_type": "markdown",
   "metadata": {},
   "source": [
    "#### For Test 2b: Geometrical Depth (Fixed Bottom)"
   ]
  },
  {
   "cell_type": "code",
   "execution_count": 3,
   "metadata": {},
   "outputs": [],
   "source": [
    "datain_path  = '2-ecrad_outputs/'\n",
    "dataout_path = '3-crh_matrices/'\n",
    "test         = 'test2b'\n",
    "version      = 'v7a'\n",
    "crh(datain_path, dataout_path, test, version)"
   ]
  },
  {
   "cell_type": "markdown",
   "metadata": {},
   "source": [
    "#### For Test 3: Ice Water Path"
   ]
  },
  {
   "cell_type": "markdown",
   "metadata": {},
   "source": [
    "This test has three independent perturbartion levels (201, 218, 236 K). It can take some minutes:"
   ]
  },
  {
   "cell_type": "code",
   "execution_count": 2,
   "metadata": {
    "scrolled": false
   },
   "outputs": [],
   "source": [
    "datain_path  = '2-ecrad_outputs/'\n",
    "dataout_path = '3-crh_matrices/'\n",
    "test         = 'test3'\n",
    "version      = 'v7a'\n",
    "profile_file = 'tropical_profile_ellingson_250m.txt'\n",
    "crh3levels(datain_path, dataout_path, profile_file, test, version)"
   ]
  },
  {
   "cell_type": "markdown",
   "metadata": {},
   "source": [
    "#### For Test 4: Effective Radius"
   ]
  },
  {
   "cell_type": "markdown",
   "metadata": {},
   "source": [
    "This test has three independent perturbartion levels (201, 218, 236 K). It can take some minutes:"
   ]
  },
  {
   "cell_type": "code",
   "execution_count": 2,
   "metadata": {
    "scrolled": false
   },
   "outputs": [],
   "source": [
    "datain_path  = '2-ecrad_outputs/'\n",
    "dataout_path = '3-crh_matrices/'\n",
    "test         = 'test4'\n",
    "version      = 'v7a'\n",
    "profile_file = 'tropical_profile_ellingson_250m.txt'\n",
    "crh3levels(datain_path, dataout_path, profile_file, test, version)"
   ]
  },
  {
   "cell_type": "code",
   "execution_count": null,
   "metadata": {},
   "outputs": [],
   "source": []
  }
 ],
 "metadata": {
  "kernelspec": {
   "display_name": "lmcme1_py38",
   "language": "python",
   "name": "lmcme1_py38"
  },
  "language_info": {
   "codemirror_mode": {
    "name": "ipython",
    "version": 3
   },
   "file_extension": ".py",
   "mimetype": "text/x-python",
   "name": "python",
   "nbconvert_exporter": "python",
   "pygments_lexer": "ipython3",
   "version": "3.8.15"
  }
 },
 "nbformat": 4,
 "nbformat_minor": 4
}
